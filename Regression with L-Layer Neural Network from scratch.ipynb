{
 "cells": [
  {
   "cell_type": "markdown",
   "metadata": {},
   "source": [
    "# L-Layer Neural Network for Regression (from scratch)\n",
    "Throughout several projects, I realized that multilayer Neural Networks usually outperform multiple regression models (including polynomial regressions), when predicting continuous response variables, as long as there are enough observations in the training set.  \n",
    "Therefore, I present, here, the step-by-step development of an L-Layer Neural Network with continuous response variable that can be used for regression problems. \n",
    "\n",
    "I used some of the code chunks provided by the deep learning specialization \"Neural Networks and Deep Learning\" from deeplearning.io on Coursera. \n",
    "\n",
    "Note that the data generation process, model training, and evaluation procedures are only presented for completeness and illustration purpose. This manuscript does neither focus on the quality of the fit/prediction, nor on hyperparameter tuning. "
   ]
  },
  {
   "cell_type": "code",
   "execution_count": 1,
   "metadata": {
    "collapsed": true
   },
   "outputs": [],
   "source": [
    "#required packages\n",
    "import numpy as np\n",
    "import pandas as pd\n",
    "import matplotlib.pyplot as plt"
   ]
  },
  {
   "cell_type": "markdown",
   "metadata": {},
   "source": [
    "## Generate Test Data\n",
    "Simulation of data from an 'abitrary' non-linear model:\n",
    "$$y = w_0+X_0w_1+X_1^{w2}+X_2^2w_3X_3w_4+X_4w_5+\\epsilon,$$\n",
    "where $w$ is a $6$-by-$1$ weight vector, $X$ is a $5$-by-$m$ feature matrix, and $\\epsilon$ is the error $\\sim NV(0,1)$. $m$ denotes the number of examples. "
   ]
  },
  {
   "cell_type": "code",
   "execution_count": 2,
   "metadata": {
    "collapsed": false
   },
   "outputs": [
    {
     "name": "stdout",
     "output_type": "stream",
     "text": [
      "Dimension feature vector X: (5, 10000)\n",
      "Dimension response vector y: (1, 10000)\n"
     ]
    }
   ],
   "source": [
    "#size of sample\n",
    "m = 10000 \n",
    "\n",
    "#feature matrix\n",
    "X = np.transpose(np.random.rand(m, 5)) \n",
    "\n",
    "\n",
    "# create response vector  w0+X0+w1+X1^w2+X2^2*w3*X3*w4+X4*w5\n",
    "w = np.array([1,10,2,4,3,10]) #weights\n",
    "y = w[0]+X[0]*w[1]+X[1]**w[2]+(X[2]**2)*w[3]*X[3]*w[4]+X[4]*w[5]+np.random.randn(m) \n",
    "y = y.reshape(1,len(y))\n",
    "\n",
    "X = pd.DataFrame(X)\n",
    "y = pd.DataFrame(y)\n",
    "\n",
    "print(\"Dimension feature vector X:\", X.shape)\n",
    "print(\"Dimension response vector y:\", y.shape)"
   ]
  },
  {
   "cell_type": "markdown",
   "metadata": {},
   "source": [
    "## Training & Testset\n",
    "In order to evaluate the method, the data is split into Training and Test set. The NN is trained with the Training set and the evaluation is done with the Test set. Note that for real-world applications, there should also be included a Dev Set and the set sizes should depend on the sample size."
   ]
  },
  {
   "cell_type": "code",
   "execution_count": 3,
   "metadata": {
    "collapsed": false
   },
   "outputs": [
    {
     "name": "stdout",
     "output_type": "stream",
     "text": [
      "train_X (5, 9500)\n",
      "train_y (1, 9500)\n",
      "test_X (5, 500)\n",
      "test_y (1, 500)\n"
     ]
    }
   ],
   "source": [
    "fraction = 0.95\n",
    "train_X = X.sample(frac=fraction, axis=1)\n",
    "test_X=X.drop(train_X.columns, axis=1)\n",
    "train_y = y.iloc[:,train_X.columns]\n",
    "test_y = y.drop(train_X.columns, axis=1)\n",
    "\n",
    "print(\"train_X\", train_X.shape)\n",
    "print(\"train_y\", train_y.shape)\n",
    "print(\"test_X\", test_X.shape)\n",
    "print(\"test_y\", test_y.shape)"
   ]
  },
  {
   "cell_type": "markdown",
   "metadata": {},
   "source": [
    "## Forward Propagation\n",
    "Conceptually, in forward propagation, first an input feature vector is multiplied with a weight matrix and a bias vector is added. Then, in order to achieve non-linearity, the weighted sum is fed into an activation function. This provides the output of the jth unit of layer $[l]$. Multiplications are simultaneously performed by multiple units of layer [l] providing an output vector of length equal to the number of units. This output vector is then multiplied by the weight matrix of the subsequent layer [l+1] and fed into the activation function of layer [l+1]. After repeating this process L-1 times (for an L-Layer NN), the output vector (at layer L-1) is fed into a final activation function, which is for classification problems usually a sigmoid function. This provides a single output value between 0 and 1 considered the predicted label of the NN. However, here, we used an identity function to obtain a real-numbered continuous outcome. \n",
    "\n",
    "Finally, this process can be simultaneously performed with multiple training examples. The output of multiple training examples (the number depends on the batch size) is fed into a cost function (this usually coincides with the Maximum Likelihood Estimator) which computes the \"difference\" between the output and the observed label, considered the Cost. "
   ]
  },
  {
   "cell_type": "markdown",
   "metadata": {},
   "source": [
    "### Initialize Parameters\n",
    "The forward propagation initiates with a weight matrix $W^{[l]}$ with relatively small and randomly chosen values and bias $b^{[l]}$ set to 0.\n",
    "\n",
    "$W^{[l]}$ is a $n^{[l]}$-by-$n^{[l-1]}$ weight matrix and \n",
    "\n",
    "$b^{[l]}$ is a $n^{[l]}$-by-$1$ bias vector. \n",
    "\n",
    "$[l]$ denotes layer $l$ and $n^{[l]}$ is the number of nodes/units in layer $[l]$.\n"
   ]
  },
  {
   "cell_type": "code",
   "execution_count": 4,
   "metadata": {
    "collapsed": true
   },
   "outputs": [],
   "source": [
    "def initialize_parameters_deep(layer_dims):\n",
    "    \n",
    "    #np.random.seed(1)\n",
    "    parameters = {}\n",
    "    L = len(layer_dims)            # number of layers\n",
    "    \n",
    "    #Initialize randomly parameters for L layers\n",
    "    for l in range(1, L):\n",
    "        parameters['W' + str(l)] = np.random.randn(layer_dims[l], layer_dims[l-1]) / np.sqrt(layer_dims[l-1]) #*0.01\n",
    "        parameters['b' + str(l)] = np.zeros((layer_dims[l], 1))\n",
    "        \n",
    "        assert(parameters['W' + str(l)].shape == (layer_dims[l], layer_dims[l-1]))\n",
    "        assert(parameters['b' + str(l)].shape == (layer_dims[l], 1))\n",
    "    return parameters"
   ]
  },
  {
   "cell_type": "markdown",
   "metadata": {},
   "source": [
    "### Activation functions\n",
    "For illustration purpose, it is here used the nonlinear Relu Activation function for all units of layers [l], l<L:\n",
    "\n",
    "$f(Z) = max(0,Z).$ \n",
    "\n",
    "Its derivative $\\frac{df(Z)}{dZ} = 1$, $\\forall~Z > 0$, otherwise $Z = 0$. "
   ]
  },
  {
   "cell_type": "code",
   "execution_count": 5,
   "metadata": {
    "collapsed": true
   },
   "outputs": [],
   "source": [
    "#forward nonlinear activation function\n",
    "def relu(Z):\n",
    "    A = np.maximum(0,Z)\n",
    "    cache = Z \n",
    "    return A, cache\n",
    "\n",
    "#backward (derivative of nonlinear activation function)\n",
    "def relu_backward(dA, cache):\n",
    "    Z = cache\n",
    "    dZ = np.array(dA, copy=True)  \n",
    "    dZ[Z <= 0] = 0\n",
    "    return dZ"
   ]
  },
  {
   "cell_type": "markdown",
   "metadata": {},
   "source": [
    "### Linear Forward Propagation Steps\n",
    "1) **Linear Forward Functions**\n",
    "\n",
    "<span style=\"color:blue\"> linear_forward</span>: \n",
    "$$Z^{[l]}=W^{[l]}A^{[l-1]}+b^{[l]},$$\n",
    "\n",
    "$Z^{[l]}$ is a $n^{[l]}$-by-$m$ matrix of linear output,  \n",
    "\n",
    "$m$ is the number of samples,  \n",
    "\n",
    "$A^{[l-1]}$ is a $n^{[l-1]}$-by-$m$ input matrix (feature or output of previous layer),\n",
    "\n",
    "$W^{[l]}$ is a $n^{[l]}$-by-$n^{[l-1]}$ weight matrix and \n",
    "\n",
    "$b^{[l]}$ is a $n^{[l]}$-by-$1$ bias vector. \n",
    "\n",
    "\n",
    "2) **Activation Function**\n",
    "\n",
    "<span style=\"color:blue\">linear_activation_forward</span>: \n",
    "\n",
    "If activation = ''Output'': $Z^{[l]} = A^{[l]}$ (identity activation function).\n",
    "\n",
    "If activation = ''Relu'', the ReLu activation function is applied to $Z^{[l]}: g(Z^{[l]}) = A^{[l]}$, this manner introducing non-linearity. (Where $g(~)$ is the ReLu activation function.)  \n",
    "\n",
    "\n",
    "3) **Join Step 1 and Step 2**\n",
    "\n",
    "<span style=\"color:blue\">L_model_forward</span>: \n",
    "\n",
    "The linear_forward + linear_activation_forward (with Relu activation function) are repeated L-1 times (for L-1 layers).\n",
    "\n",
    "At the last layer $L, Z^{[L]} = A^{[L]}$, which is the final output ($A^{[L]} = Y_{hat}$). "
   ]
  },
  {
   "cell_type": "code",
   "execution_count": 6,
   "metadata": {
    "collapsed": false
   },
   "outputs": [],
   "source": [
    "def linear_forward(A, W, b):\n",
    "    Z = W.dot(A) + b\n",
    "    cache = (A, W, b)\n",
    "    return Z, cache\n",
    "\n",
    "def linear_activation_forward(A_prev, W, b, activation):\n",
    "    if activation == \"Output\":\n",
    "        Z, linear_cache = linear_forward(A_prev, W, b)\n",
    "        A, activation_cache = Z,Z\n",
    "    \n",
    "    elif activation == \"relu\":\n",
    "        Z, linear_cache = linear_forward(A_prev, W, b)\n",
    "        A, activation_cache = relu(Z)\n",
    "    \n",
    "    cache = (linear_cache, activation_cache)\n",
    "    return A, cache\n",
    "\n",
    "\n",
    "def L_model_forward(X, parameters):\n",
    "    caches = []\n",
    "    A = X\n",
    "    L = len(parameters) // 2                  # number of layers \n",
    "    \n",
    "    # Implement [LINEAR -> RELU]*(L-1). \n",
    "    for l in range(1, L):\n",
    "        A_prev = A \n",
    "        A, cache = linear_activation_forward(A_prev, parameters['W' + str(l)], parameters['b' + str(l)], activation = \"relu\")\n",
    "        caches.append(cache)\n",
    "    \n",
    "    # Implement LINEAR. \n",
    "    AL, cache = linear_activation_forward(A, parameters['W' + str(L)], parameters['b' + str(L)], activation = \"Output\")\n",
    "    caches.append(cache)\n",
    "    \n",
    "    return AL, caches"
   ]
  },
  {
   "cell_type": "markdown",
   "metadata": {},
   "source": [
    "## Cost Function\n",
    "The cost function measures how well the parameters perform on the training set. \n",
    "For a linear regression (at layer L) it minimizes the sum of least squares, called Ordinary Least Squares method (OLS). \n",
    "$\\mathcal L(a,y) = \\frac{1}{m}\\sum_{i=1}^m(a_i-y_i)^2$"
   ]
  },
  {
   "cell_type": "code",
   "execution_count": 7,
   "metadata": {
    "collapsed": true
   },
   "outputs": [],
   "source": [
    "def compute_cost(AL, Y):\n",
    "    # Compute cost from yhat=AL and y.\n",
    "    cost = (1./Y.shape[1]) * (np.sum((np.array(AL)-np.array(Y))**2))\n",
    "    cost = np.squeeze(cost)      # turns [[value]] into value).\n",
    "    \n",
    "    return cost"
   ]
  },
  {
   "cell_type": "markdown",
   "metadata": {},
   "source": [
    "## Backward Propagation\n",
    "\n",
    "The back-propagation computes the derivative (called gradient since there are multiple dimensions) of the cost/loss function with respect to the weights. The gradients are computed successively/iteratively starting at the final Layer L. The algorithm that I used here for learning the model parameters is called Gradient Descent. \n",
    "\n",
    "The backpropagation steps are:\n",
    "\n",
    "1) **Identity backwards**:\n",
    "\n",
    "Since the output is a real number obtained from the linear combination of input (from previous layers) and weights of layer L, the gradient is obtained by derivating the cost function (OLS):\n",
    "\n",
    "$dA^{[L]} = \\frac{d\\mathcal L(A,Y)}{dA^{[L]}} = 2(A^{[L]}-Y)$.\n",
    "\n",
    "Because $Z^{[L]} = A^{[L]}$, -> $dZ^{[L]} = dA^{[L]} = 1$. \n",
    "\n",
    "Note that for simplicity, $\\frac{d\\mathcal L(A,Y)}{dA^{[l-1]}}$ is written as $dA^{[l-1]}$,  $\\frac{d\\mathcal L(A,Y)}{dZ^{[l]}}$ as $dZ^{[l]}$, etc.\n",
    "\n",
    "$A^{[L]}, dA^{[L]}, Z^{[L]}, dZ^{[L]}$ are $1$-by-$m$ vectors.\n",
    "\n",
    "\n",
    "\n",
    "2) **Linear backward**:\n",
    "\n",
    "Subsequently, the gradients are computed by propagating backwards along the layers, using the caches (values from the forward propagation) and the gradients from the previous (later) layers. \n",
    "\n",
    "<span style=\"color:blue\">linear_backward</span>: \n",
    "$$dA^{[l-1]} = W^{[l]T}dZ^{[l]},\\\\\n",
    "dW^{[l]} = \\frac{1}{m}dZ^{[l]}A^{[l-1]T},\\\\\n",
    "db^{[l]} = \\frac{1}{m}\\sum_{i=1}^mdZ^{[l](i)},\\\\\n",
    "l = L,\\ldots,1.\\\\$$\n",
    "\n",
    "\n",
    "\n",
    "$dZ^{[l]}$ is a $n^{[l]}$-by-$m$ matrix,  \n",
    "\n",
    "$A^{[l-1]}$ and $dA^{[l-1]}$ are $n^{[l-1]}$-by-$m$ matrices,\n",
    "\n",
    "$dW^{[l]}$ is a $n^{[l]}$-by-$n^{[l-1]}$ matrix,\n",
    "\n",
    "$db^{[l]}$ is a $n^{[l]}$-by-$1$ vector. \n",
    "\n",
    "3) **Derivative of ReLu activation function**:\n",
    "\n",
    "In order to obtain $dZ^{[l]}, \\forall l<L$, $Z$ is fed into $g'(~)$, which is the first derivative of the ReLu activation function, multiplied by $dA^{[l]}$, obtained from the previous layer.\n",
    "\n",
    "<span style=\"color:blue\">linear_activation_backward</span>: \n",
    "$$dZ^{[l]} = dA^{[l]}g'(Z^{[l]}),$$\n",
    "\n",
    "\n",
    "where $g'(Z) = 1, \\forall~Z > 0$, otherwise $Z = 0$, for all layers $l<L$.\n",
    "\n",
    "\n",
    "\n",
    "\n",
    "\n",
    "\n",
    "**Put altogether **\n",
    "\n",
    "\n",
    "<span style=\"color:blue\">L_model_backward</span>: \n",
    "\n",
    "This function joins all three steps.\n",
    "\n",
    "1) $dZ^{[L]} = dA^{[L]}$ is obtained.\n",
    "\n",
    "2) The linear_backward function computes $A^{[l-1]}$, $dW^{[l]}$, and $db^{[l]}$.\n",
    "\n",
    "3) The linear_activation_backward function computes dZ^{[l]}. \n",
    "\n",
    "Step two and three are repeated L-1 times (for L-1 layers). \n",
    "\n",
    "\n",
    "\n",
    "\n",
    "\n"
   ]
  },
  {
   "cell_type": "code",
   "execution_count": 8,
   "metadata": {
    "collapsed": true
   },
   "outputs": [],
   "source": [
    "def linear_backward(dZ, cache):\n",
    "    A_prev, W, b = cache\n",
    "    m = A_prev.shape[1]\n",
    "    \n",
    "    dW = 1./m * np.dot(dZ,A_prev.T)\n",
    "    db = 1./m * np.sum(dZ, axis = 1, keepdims = True)\n",
    "    dA_prev = np.dot(W.T,dZ)\n",
    "    \n",
    "    return dA_prev, dW, db\n",
    "\n",
    "\n",
    "def linear_activation_backward(dA, cache, activation):\n",
    "    linear_cache, activation_cache = cache\n",
    "    \n",
    "    if activation == \"relu\":\n",
    "        dZ = relu_backward(dA, activation_cache)\n",
    "        dA_prev, dW, db = linear_backward(dZ, linear_cache)\n",
    "        \n",
    "    elif activation == \"Output\":\n",
    "        dZ = dA\n",
    "        dA_prev, dW, db = linear_backward(dZ, linear_cache)\n",
    "    \n",
    "    return dA_prev, dW, db\n",
    "\n",
    "\n",
    "def L_model_backward(AL, Y, caches):\n",
    "    \n",
    "    grads = {}\n",
    "    L = len(caches) # the number of layers\n",
    "    m = AL.shape[1]\n",
    "    Y = np.array(Y)\n",
    "    Y = Y.reshape(AL.shape) #shape Y as AL\n",
    "    \n",
    "    # Initializing the backpropagation\n",
    "    dAL = 2*(np.array(AL)-np.array(Y))\n",
    "    current_cache = caches[L-1]\n",
    "    grads[\"dA\" + str(L)], grads[\"dW\" + str(L)], grads[\"db\" + str(L)] = linear_activation_backward(dAL, current_cache, activation = \"Output\")\n",
    "    \n",
    "    for l in reversed(range(L-1)):\n",
    "        # lth layer: (RELU -> LINEAR) gradients.\n",
    "        current_cache = caches[l]\n",
    "        dA_prev_temp, dW_temp, db_temp = linear_activation_backward(grads[\"dA\" + str(l + 2)], current_cache, activation = \"relu\")\n",
    "        grads[\"dA\" + str(l + 1)] = dA_prev_temp\n",
    "        grads[\"dW\" + str(l + 1)] = dW_temp\n",
    "        grads[\"db\" + str(l + 1)] = db_temp\n",
    "\n",
    "    return grads"
   ]
  },
  {
   "cell_type": "markdown",
   "metadata": {},
   "source": [
    "## Update Parameters\n",
    "The parameters (weights and biases) are updated at each iteration by using gradient descent. \n",
    "$$W^{[l]} =  W^{[l]} - \\alpha~dW^{[l]},\\\\\n",
    "b^{[l]} =  b^{[l]} - \\alpha~db^{[l]},$$\n",
    "where $\\alpha$ denotes the learning rate reflecting the size of the step down the gradient (i.e., multidimensional slope)."
   ]
  },
  {
   "cell_type": "code",
   "execution_count": 9,
   "metadata": {
    "collapsed": true
   },
   "outputs": [],
   "source": [
    "def update_parameters(parameters, grads, learning_rate):\n",
    "    L = len(parameters) // 2 # number of layers in the neural network\n",
    "\n",
    "    # Update rule for each parameter \n",
    "    for l in range(L):\n",
    "        parameters[\"W\" + str(l+1)] = parameters[\"W\" + str(l+1)] - learning_rate * grads[\"dW\" + str(l+1)]\n",
    "        parameters[\"b\" + str(l+1)] = parameters[\"b\" + str(l+1)] - learning_rate * grads[\"db\" + str(l+1)]\n",
    "        \n",
    "    return parameters"
   ]
  },
  {
   "cell_type": "markdown",
   "metadata": {},
   "source": [
    "## Predict\n",
    "After the last parameter update (of backpropagation), the parameters  are used in a final forward propagation step using the feature matrix $X$ of the test set in order to predict $Y$ of the test set. "
   ]
  },
  {
   "cell_type": "code",
   "execution_count": 10,
   "metadata": {
    "collapsed": false
   },
   "outputs": [],
   "source": [
    "def predict(X, y, parameters):\n",
    "    \n",
    "    m = X.shape[1]\n",
    "    n = len(parameters) // 2 # number of layers in the neural network\n",
    "    p = np.zeros((1,m))\n",
    "    \n",
    "    # Final Forward propagation\n",
    "    hat, caches = L_model_forward(X, parameters)\n",
    "\n",
    "    #Mean Squared Error\n",
    "    MSE = 1./m * np.sum((hat - y)**2) \n",
    "    #print(\"MSE:\", MSE ) \n",
    "        \n",
    "    return hat "
   ]
  },
  {
   "cell_type": "markdown",
   "metadata": {},
   "source": [
    "## L-Layer Neural Net\n",
    "All functions are combined within a single function (i.e., the L-Layer Neural Net Model)"
   ]
  },
  {
   "cell_type": "code",
   "execution_count": 11,
   "metadata": {
    "collapsed": true
   },
   "outputs": [],
   "source": [
    "#L Layer Neural Net\n",
    "def L_layer_model(X, Y, layers_dims, learning_rate, iterations, print_cost=False):\n",
    "    costs = [] # track costs\n",
    "    # Parameters initialization.\n",
    "    parameters = initialize_parameters_deep(layers_dims)\n",
    "    \n",
    "    #iterate forward and backward propagation \"iterations\" times\n",
    "    for i in range(0, iterations):\n",
    "\n",
    "        # Forward propagation: [LINEAR -> RELU]*(L-1) -> Output(L) (LINEAR)\n",
    "        AL, caches = L_model_forward(X, parameters)\n",
    "        \n",
    "        # Compute cost.\n",
    "        cost = compute_cost(AL, Y)\n",
    "        \n",
    "        # Backward propagation.\n",
    "        grads = L_model_backward(AL, Y, caches)\n",
    "        \n",
    "        # Update parameters.\n",
    "        parameters = update_parameters(parameters, grads, learning_rate)\n",
    "        \n",
    "                \n",
    "        # Print the cost every 100 training example\n",
    "        if print_cost and i % 100 == 0:\n",
    "            print (\"Cost after iteration %i: %f\" %(i, cost))\n",
    "        if print_cost and i % 100 == 0:\n",
    "            costs.append(cost)\n",
    "            \n",
    "    # plot the cost\n",
    "    plt.plot(np.squeeze(costs))\n",
    "    plt.ylabel('cost')\n",
    "    plt.xlabel('iterations (per tens)')\n",
    "    plt.title(\"Learning rate =\" + str(learning_rate))\n",
    "    plt.show()\n",
    "    \n",
    "    return parameters"
   ]
  },
  {
   "cell_type": "markdown",
   "metadata": {},
   "source": [
    "## Training\n",
    "Now, the model has to be trained with the training data (i.e., multiple forward and backward propagations). The batch size equals, here, the size of the entire training set. Outcomes are compouted (forward propagation) and the parameters updated (backward propagation) for 2500 times.\n",
    "For illustration purpose only, we used here an 4-Layer Neural Network ($n_x=5, n_1=7, n_2=5, n_3=4, n_y=1$) "
   ]
  },
  {
   "cell_type": "code",
   "execution_count": 20,
   "metadata": {
    "collapsed": false
   },
   "outputs": [
    {
     "name": "stdout",
     "output_type": "stream",
     "text": [
      "Cost after iteration 0: 195.779207\n",
      "Cost after iteration 100: 157.026971\n",
      "Cost after iteration 200: 41.754068\n",
      "Cost after iteration 300: 14.382812\n",
      "Cost after iteration 400: 13.013562\n",
      "Cost after iteration 500: 11.792586\n",
      "Cost after iteration 600: 10.678977\n",
      "Cost after iteration 700: 9.691299\n",
      "Cost after iteration 800: 8.808180\n",
      "Cost after iteration 900: 8.009290\n",
      "Cost after iteration 1000: 7.285844\n",
      "Cost after iteration 1100: 6.635167\n"
     ]
    },
    {
     "data": {
      "image/png": "[encoded data removed]",
      "text/plain": [
       "<matplotlib.figure.Figure at 0x10c91f320>"
      ]
     },
     "metadata": {},
     "output_type": "display_data"
    }
   ],
   "source": [
    "n_x = X.shape[0]   \n",
    "n_y = y.shape[0]\n",
    "layers_dims = (n_x, 7,5,4, n_y) #define here the number and size of the layers\n",
    "parameters = L_layer_model(train_X, train_y, layers_dims = layers_dims, learning_rate=0.0001, iterations = 1200, print_cost = True)"
   ]
  },
  {
   "cell_type": "markdown",
   "metadata": {},
   "source": [
    "## Prediction and Evaluation \n",
    "The model was training with the Training Set and, subsequently, we use the Test Set in order to evaluate the model. The fit is evaluated by the Mean Squared Error (MSE). $y_{hat}$ is the predicted outcome of the model and $y$ a true observation of the test sample. "
   ]
  },
  {
   "cell_type": "code",
   "execution_count": 21,
   "metadata": {
    "collapsed": false
   },
   "outputs": [
    {
     "name": "stdout",
     "output_type": "stream",
     "text": [
      "Mean Squared Error Training: 115.009451494\n",
      "Mean Squared Error Test: 6.05337907228\n"
     ]
    }
   ],
   "source": [
    "#Predictions of test set\n",
    "predictions_train = predict(train_X, train_y, parameters)\n",
    "predictions_test = predict(test_X, test_y, parameters)\n",
    "\n",
    "#difference between prediction and true test value\n",
    "dif = np.array(test_y)[0,:] - np.array(predictions_test)[0,:]\n",
    "\n",
    "m = len(np.array(test_y)[0,:])\n",
    "MSE_train = 1/m*np.sum((np.array(train_y)[0,:] - np.array(predictions_train)[0,:])**2)\n",
    "MSE_test = 1/m*np.sum((np.array(test_y)[0,:] - np.array(predictions_test)[0,:])**2)\n",
    "\n",
    "print(\"Mean Squared Error Training:\", MSE_train)\n",
    "print(\"Mean Squared Error Test:\", MSE_test)"
   ]
  },
  {
   "cell_type": "code",
   "execution_count": 22,
   "metadata": {
    "collapsed": false
   },
   "outputs": [
    {
     "data": {
      "image/png": "[encoded data removed]",
      "text/plain": [
       "<matplotlib.figure.Figure at 0x10c516c88>"
      ]
     },
     "metadata": {},
     "output_type": "display_data"
    }
   ],
   "source": [
    "t = np.arange(0,test_y.shape[1],1)\n",
    "f, (ax1, ax2) = plt.subplots(2, 1, sharey=False, figsize=(8, 8))\n",
    "ax1.scatter(np.array(predictions_test)[0,:],  np.array(test_y)[0,:], label=\"y\")\n",
    "ax1.set_title('Scatterplot of y_hat vs. y')\n",
    "ax1.plot(ax1.get_xlim(), ax1.get_ylim(), ls=\"-\", color=\"red\")\n",
    "ax1.set_xlabel('y_hat')\n",
    "ax1.set_ylabel('y')\n",
    "\n",
    "ax2.hist(dif)\n",
    "ax2.set_title('Histogram of y-y_hat')\n",
    "ax2.set_xlabel('dif (y_hat - y)')\n",
    "ax2.set_ylabel('counts')\n",
    "plt.subplots_adjust(hspace = 0.5)\n",
    "plt.show(1,1)"
   ]
  },
  {
   "cell_type": "markdown",
   "metadata": {},
   "source": [
    "When falling on the red line (top) and when being 0 (bottom), the predictions coincide with the true values"
   ]
  },
  {
   "cell_type": "code",
   "execution_count": null,
   "metadata": {
    "collapsed": true
   },
   "outputs": [],
   "source": []
  }
 ],
 "metadata": {
  "kernelspec": {
   "display_name": "Python 3",
   "language": "python",
   "name": "python3"
  },
  "language_info": {
   "codemirror_mode": {
    "name": "ipython",
    "version": 3
   },
   "file_extension": ".py",
   "mimetype": "text/x-python",
   "name": "python",
   "nbconvert_exporter": "python",
   "pygments_lexer": "ipython3",
   "version": "3.6.3"
  }
 },
 "nbformat": 4,
 "nbformat_minor": 2
}
